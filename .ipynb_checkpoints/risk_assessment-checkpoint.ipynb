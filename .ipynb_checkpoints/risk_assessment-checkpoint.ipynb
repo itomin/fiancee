{
 "cells": [
  {
   "cell_type": "code",
   "execution_count": 98,
   "metadata": {},
   "outputs": [
    {
     "name": "stdout",
     "output_type": "stream",
     "text": [
      "The autoreload extension is already loaded. To reload it, use:\n",
      "  %reload_ext autoreload\n"
     ]
    }
   ],
   "source": [
    "import numpy as np\n",
    "import pandas as pd\n",
    "from quandler import Quandler\n",
    "from returns import Return\n",
    "from risk import Risk \n",
    "import matplotlib.pyplot as plt\n",
    "\n",
    "%matplotlib inline\n",
    "plt.rcParams[\"figure.figsize\"] = [18, 10]\n",
    "\n",
    "%load_ext autoreload\n",
    "%autoreload 2\n",
    "\n",
    "returns = Return()\n",
    "risk = Risk()\n",
    "quandler = Quandler()"
   ]
  },
  {
   "cell_type": "code",
   "execution_count": 99,
   "metadata": {},
   "outputs": [
    {
     "data": {
      "text/html": [
       "<div>\n",
       "<style scoped>\n",
       "    .dataframe tbody tr th:only-of-type {\n",
       "        vertical-align: middle;\n",
       "    }\n",
       "\n",
       "    .dataframe tbody tr th {\n",
       "        vertical-align: top;\n",
       "    }\n",
       "\n",
       "    .dataframe thead th {\n",
       "        text-align: right;\n",
       "    }\n",
       "</style>\n",
       "<table border=\"1\" class=\"dataframe\">\n",
       "  <thead>\n",
       "    <tr style=\"text-align: right;\">\n",
       "      <th></th>\n",
       "      <th>&lt;= 0</th>\n",
       "      <th>Lo 30</th>\n",
       "      <th>Med 40</th>\n",
       "      <th>Hi 30</th>\n",
       "      <th>Lo 20</th>\n",
       "      <th>Qnt 2</th>\n",
       "      <th>Qnt 3</th>\n",
       "      <th>Qnt 4</th>\n",
       "      <th>Hi 20</th>\n",
       "      <th>Lo 10</th>\n",
       "      <th>Dec 2</th>\n",
       "      <th>Dec 3</th>\n",
       "      <th>Dec 4</th>\n",
       "      <th>Dec 5</th>\n",
       "      <th>Dec 6</th>\n",
       "      <th>Dec 7</th>\n",
       "      <th>Dec 8</th>\n",
       "      <th>Dec 9</th>\n",
       "      <th>Hi 10</th>\n",
       "    </tr>\n",
       "  </thead>\n",
       "  <tbody>\n",
       "    <tr>\n",
       "      <th>1926-07</th>\n",
       "      <td>-0.9999</td>\n",
       "      <td>-0.0043</td>\n",
       "      <td>0.0152</td>\n",
       "      <td>0.0268</td>\n",
       "      <td>-0.0057</td>\n",
       "      <td>0.0059</td>\n",
       "      <td>0.0160</td>\n",
       "      <td>0.0147</td>\n",
       "      <td>0.0333</td>\n",
       "      <td>-0.0145</td>\n",
       "      <td>0.0029</td>\n",
       "      <td>-0.0015</td>\n",
       "      <td>0.0133</td>\n",
       "      <td>0.0124</td>\n",
       "      <td>0.0198</td>\n",
       "      <td>0.0155</td>\n",
       "      <td>0.0138</td>\n",
       "      <td>0.0338</td>\n",
       "      <td>0.0329</td>\n",
       "    </tr>\n",
       "    <tr>\n",
       "      <th>1926-08</th>\n",
       "      <td>-0.9999</td>\n",
       "      <td>0.0390</td>\n",
       "      <td>0.0304</td>\n",
       "      <td>0.0209</td>\n",
       "      <td>0.0384</td>\n",
       "      <td>0.0359</td>\n",
       "      <td>0.0371</td>\n",
       "      <td>0.0161</td>\n",
       "      <td>0.0233</td>\n",
       "      <td>0.0512</td>\n",
       "      <td>0.0259</td>\n",
       "      <td>0.0403</td>\n",
       "      <td>0.0315</td>\n",
       "      <td>0.0272</td>\n",
       "      <td>0.0472</td>\n",
       "      <td>0.0160</td>\n",
       "      <td>0.0163</td>\n",
       "      <td>0.0098</td>\n",
       "      <td>0.0370</td>\n",
       "    </tr>\n",
       "    <tr>\n",
       "      <th>1926-09</th>\n",
       "      <td>-0.9999</td>\n",
       "      <td>-0.0108</td>\n",
       "      <td>-0.0054</td>\n",
       "      <td>0.0016</td>\n",
       "      <td>-0.0048</td>\n",
       "      <td>-0.0140</td>\n",
       "      <td>0.0000</td>\n",
       "      <td>-0.0050</td>\n",
       "      <td>-0.0009</td>\n",
       "      <td>0.0093</td>\n",
       "      <td>-0.0187</td>\n",
       "      <td>-0.0227</td>\n",
       "      <td>-0.0053</td>\n",
       "      <td>0.0007</td>\n",
       "      <td>-0.0007</td>\n",
       "      <td>-0.0164</td>\n",
       "      <td>0.0064</td>\n",
       "      <td>-0.0086</td>\n",
       "      <td>0.0067</td>\n",
       "    </tr>\n",
       "    <tr>\n",
       "      <th>1926-10</th>\n",
       "      <td>-0.9999</td>\n",
       "      <td>-0.0332</td>\n",
       "      <td>-0.0352</td>\n",
       "      <td>-0.0306</td>\n",
       "      <td>-0.0329</td>\n",
       "      <td>-0.0410</td>\n",
       "      <td>-0.0289</td>\n",
       "      <td>-0.0336</td>\n",
       "      <td>-0.0295</td>\n",
       "      <td>-0.0484</td>\n",
       "      <td>-0.0177</td>\n",
       "      <td>-0.0336</td>\n",
       "      <td>-0.0483</td>\n",
       "      <td>-0.0298</td>\n",
       "      <td>-0.0280</td>\n",
       "      <td>-0.0345</td>\n",
       "      <td>-0.0327</td>\n",
       "      <td>-0.0347</td>\n",
       "      <td>-0.0243</td>\n",
       "    </tr>\n",
       "    <tr>\n",
       "      <th>1926-11</th>\n",
       "      <td>-0.9999</td>\n",
       "      <td>-0.0046</td>\n",
       "      <td>0.0382</td>\n",
       "      <td>0.0309</td>\n",
       "      <td>-0.0055</td>\n",
       "      <td>0.0218</td>\n",
       "      <td>0.0341</td>\n",
       "      <td>0.0339</td>\n",
       "      <td>0.0316</td>\n",
       "      <td>-0.0078</td>\n",
       "      <td>-0.0032</td>\n",
       "      <td>-0.0029</td>\n",
       "      <td>0.0465</td>\n",
       "      <td>0.0324</td>\n",
       "      <td>0.0357</td>\n",
       "      <td>0.0382</td>\n",
       "      <td>0.0295</td>\n",
       "      <td>0.0361</td>\n",
       "      <td>0.0270</td>\n",
       "    </tr>\n",
       "  </tbody>\n",
       "</table>\n",
       "</div>"
      ],
      "text/plain": [
       "           <= 0   Lo 30  Med 40   Hi 30   Lo 20   Qnt 2   Qnt 3   Qnt 4  \\\n",
       "1926-07 -0.9999 -0.0043  0.0152  0.0268 -0.0057  0.0059  0.0160  0.0147   \n",
       "1926-08 -0.9999  0.0390  0.0304  0.0209  0.0384  0.0359  0.0371  0.0161   \n",
       "1926-09 -0.9999 -0.0108 -0.0054  0.0016 -0.0048 -0.0140  0.0000 -0.0050   \n",
       "1926-10 -0.9999 -0.0332 -0.0352 -0.0306 -0.0329 -0.0410 -0.0289 -0.0336   \n",
       "1926-11 -0.9999 -0.0046  0.0382  0.0309 -0.0055  0.0218  0.0341  0.0339   \n",
       "\n",
       "          Hi 20   Lo 10   Dec 2   Dec 3   Dec 4   Dec 5   Dec 6   Dec 7  \\\n",
       "1926-07  0.0333 -0.0145  0.0029 -0.0015  0.0133  0.0124  0.0198  0.0155   \n",
       "1926-08  0.0233  0.0512  0.0259  0.0403  0.0315  0.0272  0.0472  0.0160   \n",
       "1926-09 -0.0009  0.0093 -0.0187 -0.0227 -0.0053  0.0007 -0.0007 -0.0164   \n",
       "1926-10 -0.0295 -0.0484 -0.0177 -0.0336 -0.0483 -0.0298 -0.0280 -0.0345   \n",
       "1926-11  0.0316 -0.0078 -0.0032 -0.0029  0.0465  0.0324  0.0357  0.0382   \n",
       "\n",
       "          Dec 8   Dec 9   Hi 10  \n",
       "1926-07  0.0138  0.0338  0.0329  \n",
       "1926-08  0.0163  0.0098  0.0370  \n",
       "1926-09  0.0064 -0.0086  0.0067  \n",
       "1926-10 -0.0327 -0.0347 -0.0243  \n",
       "1926-11  0.0295  0.0361  0.0270  "
      ]
     },
     "execution_count": 99,
     "metadata": {},
     "output_type": "execute_result"
    }
   ],
   "source": [
    "df = pd.read_csv(\"data/Portfolios_Formed_on_ME_monthly_EW.csv\", header=0, index_col=0, parse_dates=True)\n",
    "df = df/100\n",
    "df.index =  pd.to_datetime(df.index, format='%Y%m')\n",
    "df.index = df.index.to_period('M')\n",
    "df.head()"
   ]
  },
  {
   "cell_type": "code",
   "execution_count": 79,
   "metadata": {},
   "outputs": [
    {
     "data": {
      "text/html": [
       "<div>\n",
       "<style scoped>\n",
       "    .dataframe tbody tr th:only-of-type {\n",
       "        vertical-align: middle;\n",
       "    }\n",
       "\n",
       "    .dataframe tbody tr th {\n",
       "        vertical-align: top;\n",
       "    }\n",
       "\n",
       "    .dataframe thead th {\n",
       "        text-align: right;\n",
       "    }\n",
       "</style>\n",
       "<table border=\"1\" class=\"dataframe\">\n",
       "  <thead>\n",
       "    <tr style=\"text-align: right;\">\n",
       "      <th></th>\n",
       "      <th>Convertible Arbitrage</th>\n",
       "      <th>CTA Global</th>\n",
       "      <th>Distressed Securities</th>\n",
       "      <th>Emerging Markets</th>\n",
       "      <th>Equity Market Neutral</th>\n",
       "      <th>Event Driven</th>\n",
       "      <th>Fixed Income Arbitrage</th>\n",
       "      <th>Global Macro</th>\n",
       "      <th>Long/Short Equity</th>\n",
       "      <th>Merger Arbitrage</th>\n",
       "      <th>Relative Value</th>\n",
       "      <th>Short Selling</th>\n",
       "      <th>Funds Of Funds</th>\n",
       "    </tr>\n",
       "    <tr>\n",
       "      <th>date</th>\n",
       "      <th></th>\n",
       "      <th></th>\n",
       "      <th></th>\n",
       "      <th></th>\n",
       "      <th></th>\n",
       "      <th></th>\n",
       "      <th></th>\n",
       "      <th></th>\n",
       "      <th></th>\n",
       "      <th></th>\n",
       "      <th></th>\n",
       "      <th></th>\n",
       "      <th></th>\n",
       "    </tr>\n",
       "  </thead>\n",
       "  <tbody>\n",
       "    <tr>\n",
       "      <th>1997-01</th>\n",
       "      <td>0.0119</td>\n",
       "      <td>0.0393</td>\n",
       "      <td>0.0178</td>\n",
       "      <td>0.0791</td>\n",
       "      <td>0.0189</td>\n",
       "      <td>0.0213</td>\n",
       "      <td>0.0191</td>\n",
       "      <td>0.0573</td>\n",
       "      <td>0.0281</td>\n",
       "      <td>0.0150</td>\n",
       "      <td>0.0180</td>\n",
       "      <td>-0.0166</td>\n",
       "      <td>0.0317</td>\n",
       "    </tr>\n",
       "    <tr>\n",
       "      <th>1997-02</th>\n",
       "      <td>0.0123</td>\n",
       "      <td>0.0298</td>\n",
       "      <td>0.0122</td>\n",
       "      <td>0.0525</td>\n",
       "      <td>0.0101</td>\n",
       "      <td>0.0084</td>\n",
       "      <td>0.0122</td>\n",
       "      <td>0.0175</td>\n",
       "      <td>-0.0006</td>\n",
       "      <td>0.0034</td>\n",
       "      <td>0.0118</td>\n",
       "      <td>0.0426</td>\n",
       "      <td>0.0106</td>\n",
       "    </tr>\n",
       "    <tr>\n",
       "      <th>1997-03</th>\n",
       "      <td>0.0078</td>\n",
       "      <td>-0.0021</td>\n",
       "      <td>-0.0012</td>\n",
       "      <td>-0.0120</td>\n",
       "      <td>0.0016</td>\n",
       "      <td>-0.0023</td>\n",
       "      <td>0.0109</td>\n",
       "      <td>-0.0119</td>\n",
       "      <td>-0.0084</td>\n",
       "      <td>0.0060</td>\n",
       "      <td>0.0010</td>\n",
       "      <td>0.0778</td>\n",
       "      <td>-0.0077</td>\n",
       "    </tr>\n",
       "    <tr>\n",
       "      <th>1997-04</th>\n",
       "      <td>0.0086</td>\n",
       "      <td>-0.0170</td>\n",
       "      <td>0.0030</td>\n",
       "      <td>0.0119</td>\n",
       "      <td>0.0119</td>\n",
       "      <td>-0.0005</td>\n",
       "      <td>0.0130</td>\n",
       "      <td>0.0172</td>\n",
       "      <td>0.0084</td>\n",
       "      <td>-0.0001</td>\n",
       "      <td>0.0122</td>\n",
       "      <td>-0.0129</td>\n",
       "      <td>0.0009</td>\n",
       "    </tr>\n",
       "    <tr>\n",
       "      <th>1997-05</th>\n",
       "      <td>0.0156</td>\n",
       "      <td>-0.0015</td>\n",
       "      <td>0.0233</td>\n",
       "      <td>0.0315</td>\n",
       "      <td>0.0189</td>\n",
       "      <td>0.0346</td>\n",
       "      <td>0.0118</td>\n",
       "      <td>0.0108</td>\n",
       "      <td>0.0394</td>\n",
       "      <td>0.0197</td>\n",
       "      <td>0.0173</td>\n",
       "      <td>-0.0737</td>\n",
       "      <td>0.0275</td>\n",
       "    </tr>\n",
       "  </tbody>\n",
       "</table>\n",
       "</div>"
      ],
      "text/plain": [
       "         Convertible Arbitrage  CTA Global  Distressed Securities  \\\n",
       "date                                                                \n",
       "1997-01                 0.0119      0.0393                 0.0178   \n",
       "1997-02                 0.0123      0.0298                 0.0122   \n",
       "1997-03                 0.0078     -0.0021                -0.0012   \n",
       "1997-04                 0.0086     -0.0170                 0.0030   \n",
       "1997-05                 0.0156     -0.0015                 0.0233   \n",
       "\n",
       "         Emerging Markets  Equity Market Neutral  Event Driven  \\\n",
       "date                                                             \n",
       "1997-01            0.0791                 0.0189        0.0213   \n",
       "1997-02            0.0525                 0.0101        0.0084   \n",
       "1997-03           -0.0120                 0.0016       -0.0023   \n",
       "1997-04            0.0119                 0.0119       -0.0005   \n",
       "1997-05            0.0315                 0.0189        0.0346   \n",
       "\n",
       "         Fixed Income Arbitrage  Global Macro  Long/Short Equity  \\\n",
       "date                                                               \n",
       "1997-01                  0.0191        0.0573             0.0281   \n",
       "1997-02                  0.0122        0.0175            -0.0006   \n",
       "1997-03                  0.0109       -0.0119            -0.0084   \n",
       "1997-04                  0.0130        0.0172             0.0084   \n",
       "1997-05                  0.0118        0.0108             0.0394   \n",
       "\n",
       "         Merger Arbitrage  Relative Value  Short Selling  Funds Of Funds  \n",
       "date                                                                      \n",
       "1997-01            0.0150          0.0180        -0.0166          0.0317  \n",
       "1997-02            0.0034          0.0118         0.0426          0.0106  \n",
       "1997-03            0.0060          0.0010         0.0778         -0.0077  \n",
       "1997-04           -0.0001          0.0122        -0.0129          0.0009  \n",
       "1997-05            0.0197          0.0173        -0.0737          0.0275  "
      ]
     },
     "execution_count": 79,
     "metadata": {},
     "output_type": "execute_result"
    }
   ],
   "source": [
    "df = quandler.get_hfi_returns()\n",
    "df.head()"
   ]
  },
  {
   "cell_type": "code",
   "execution_count": 100,
   "metadata": {},
   "outputs": [],
   "source": [
    "df = df[[\"Lo 20\",\"Hi 20\"]]"
   ]
  },
  {
   "cell_type": "code",
   "execution_count": 101,
   "metadata": {},
   "outputs": [
    {
     "data": {
      "text/plain": [
       "Lo 20    15.197701\n",
       "Hi 20     9.849021\n",
       "dtype: float64"
      ]
     },
     "execution_count": 101,
     "metadata": {},
     "output_type": "execute_result"
    }
   ],
   "source": [
    "df.aggregate(returns.annualized_returns, n=12) * 100"
   ]
  },
  {
   "cell_type": "code",
   "execution_count": 102,
   "metadata": {},
   "outputs": [
    {
     "data": {
      "text/plain": [
       "Lo 20    33.670128\n",
       "Hi 20    19.511604\n",
       "dtype: float64"
      ]
     },
     "execution_count": 102,
     "metadata": {},
     "output_type": "execute_result"
    }
   ],
   "source": [
    "df.aggregate(returns.annualized_volatility, n=12) * 100"
   ]
  },
  {
   "cell_type": "code",
   "execution_count": 103,
   "metadata": {},
   "outputs": [
    {
     "data": {
      "text/plain": [
       "Lo 20    11.442634\n",
       "Hi 20     6.286512\n",
       "dtype: float64"
      ]
     },
     "execution_count": 103,
     "metadata": {},
     "output_type": "execute_result"
    }
   ],
   "source": [
    "df[\"1999\":\"2015\"].aggregate(returns.annualized_returns, n=12) * 100"
   ]
  },
  {
   "cell_type": "code",
   "execution_count": 104,
   "metadata": {},
   "outputs": [
    {
     "data": {
      "text/plain": [
       "Lo 20    22.889447\n",
       "Hi 20    17.271332\n",
       "dtype: float64"
      ]
     },
     "execution_count": 104,
     "metadata": {},
     "output_type": "execute_result"
    }
   ],
   "source": [
    "df[\"1999\":\"2015\"].aggregate(returns.annualized_volatility, n=12) * 100"
   ]
  },
  {
   "cell_type": "code",
   "execution_count": 124,
   "metadata": {},
   "outputs": [],
   "source": [
    "df_downs = risk.drawdown(df)"
   ]
  },
  {
   "cell_type": "code",
   "execution_count": 140,
   "metadata": {},
   "outputs": [
    {
     "data": {
      "text/plain": [
       "Lo 20   -62.480924\n",
       "Hi 20   -55.273500\n",
       "dtype: float64"
      ]
     },
     "execution_count": 140,
     "metadata": {},
     "output_type": "execute_result"
    }
   ],
   "source": [
    "df_downs[\"1999\":\"2015\"].min() * 100"
   ]
  },
  {
   "cell_type": "code",
   "execution_count": 141,
   "metadata": {},
   "outputs": [
    {
     "data": {
      "text/plain": [
       "2009-02   -0.552735\n",
       "2009-03   -0.505951\n",
       "2009-01   -0.497737\n",
       "2008-11   -0.476433\n",
       "2008-12   -0.462821\n",
       "2002-09   -0.429339\n",
       "2008-10   -0.424146\n",
       "2009-04   -0.418900\n",
       "2003-02   -0.403639\n",
       "2003-03   -0.398749\n",
       "2003-01   -0.392213\n",
       "2002-10   -0.390420\n",
       "2002-12   -0.379429\n",
       "2009-06   -0.377714\n",
       "2002-07   -0.373735\n",
       "2009-05   -0.372063\n",
       "2002-08   -0.369226\n",
       "2002-11   -0.350188\n",
       "2003-04   -0.349868\n",
       "2009-07   -0.327434\n",
       "2001-09   -0.320040\n",
       "2002-06   -0.313983\n",
       "2009-08   -0.303625\n",
       "2003-05   -0.296947\n",
       "2003-06   -0.293080\n",
       "2009-10   -0.291044\n",
       "2001-10   -0.289918\n",
       "2003-07   -0.279790\n",
       "2008-09   -0.279642\n",
       "2009-09   -0.273611\n",
       "             ...   \n",
       "2013-03    0.000000\n",
       "2013-04    0.000000\n",
       "2007-05    0.000000\n",
       "2007-04    0.000000\n",
       "2007-03    0.000000\n",
       "2007-01    0.000000\n",
       "2006-12    0.000000\n",
       "2006-11    0.000000\n",
       "2006-10    0.000000\n",
       "2006-09    0.000000\n",
       "2011-04    0.000000\n",
       "2006-04    0.000000\n",
       "2006-03    0.000000\n",
       "2006-02    0.000000\n",
       "2013-05    0.000000\n",
       "2006-01    0.000000\n",
       "2005-11    0.000000\n",
       "2005-09    0.000000\n",
       "2012-02    0.000000\n",
       "2012-03    0.000000\n",
       "2005-07    0.000000\n",
       "2000-08    0.000000\n",
       "2012-09    0.000000\n",
       "2012-11    0.000000\n",
       "2012-12    0.000000\n",
       "2013-01    0.000000\n",
       "2013-02    0.000000\n",
       "2007-10    0.000000\n",
       "2005-12    0.000000\n",
       "1999-01    0.000000\n",
       "Freq: M, Name: Hi 20, Length: 204, dtype: float64"
      ]
     },
     "execution_count": 141,
     "metadata": {},
     "output_type": "execute_result"
    }
   ],
   "source": [
    "df_downs[\"1999\":\"2015\"][\"Hi 20\"].sort_values()"
   ]
  },
  {
   "cell_type": "code",
   "execution_count": 97,
   "metadata": {},
   "outputs": [
    {
     "data": {
      "text/plain": [
       "Fixed Income Arbitrage    0.003395\n",
       "Merger Arbitrage          0.003669\n",
       "Global Macro              0.005123\n",
       "Equity Market Neutral     0.005275\n",
       "Relative Value            0.005816\n",
       "Convertible Arbitrage     0.006788\n",
       "Funds Of Funds            0.008047\n",
       "Distressed Securities     0.009626\n",
       "Event Driven              0.010278\n",
       "CTA Global                0.011089\n",
       "Long/Short Equity         0.012297\n",
       "Emerging Markets          0.015453\n",
       "Short Selling             0.021383\n",
       "dtype: float64"
      ]
     },
     "execution_count": 97,
     "metadata": {},
     "output_type": "execute_result"
    }
   ],
   "source": [
    "df[\"2009\":].aggregate(risk.semideviation).sort_values()"
   ]
  },
  {
   "cell_type": "code",
   "execution_count": 96,
   "metadata": {},
   "outputs": [
    {
     "data": {
      "text/plain": [
       "<matplotlib.axes._subplots.AxesSubplot at 0x20f9db2fe48>"
      ]
     },
     "execution_count": 96,
     "metadata": {},
     "output_type": "execute_result"
    },
    {
     "data": {
      "image/png": "[encoded data removed]",
      "text/plain": [
       "<Figure size 1296x720 with 1 Axes>"
      ]
     },
     "metadata": {
      "needs_background": "light"
     },
     "output_type": "display_data"
    }
   ],
   "source": [
    "df[\"2009\":].skew().plot.bar()"
   ]
  },
  {
   "cell_type": "code",
   "execution_count": 86,
   "metadata": {},
   "outputs": [
    {
     "data": {
      "text/plain": [
       "<matplotlib.axes._subplots.AxesSubplot at 0x20f9d694668>"
      ]
     },
     "execution_count": 86,
     "metadata": {},
     "output_type": "execute_result"
    },
    {
     "data": {
      "image/png": "[encoded data removed]",
      "text/plain": [
       "<Figure size 1296x720 with 1 Axes>"
      ]
     },
     "metadata": {
      "needs_background": "light"
     },
     "output_type": "display_data"
    }
   ],
   "source": [
    "df[\"2000\":\"2018\"].kurtosis().plot.bar()"
   ]
  },
  {
   "cell_type": "code",
   "execution_count": 87,
   "metadata": {},
   "outputs": [
    {
     "data": {
      "text/plain": [
       "Index(['Convertible Arbitrage', 'CTA Global', 'Distressed Securities',\n",
       "       'Emerging Markets', 'Equity Market Neutral', 'Event Driven',\n",
       "       'Fixed Income Arbitrage', 'Global Macro', 'Long/Short Equity',\n",
       "       'Merger Arbitrage', 'Relative Value', 'Short Selling',\n",
       "       'Funds Of Funds'],\n",
       "      dtype='object')"
      ]
     },
     "execution_count": 87,
     "metadata": {},
     "output_type": "execute_result"
    }
   ],
   "source": [
    "df.columns"
   ]
  },
  {
   "cell_type": "code",
   "execution_count": null,
   "metadata": {},
   "outputs": [],
   "source": []
  }
 ],
 "metadata": {
  "kernelspec": {
   "display_name": "Python 3",
   "language": "python",
   "name": "python3"
  },
  "language_info": {
   "codemirror_mode": {
    "name": "ipython",
    "version": 3
   },
   "file_extension": ".py",
   "mimetype": "text/x-python",
   "name": "python",
   "nbconvert_exporter": "python",
   "pygments_lexer": "ipython3",
   "version": "3.7.1"
  }
 },
 "nbformat": 4,
 "nbformat_minor": 2
}
