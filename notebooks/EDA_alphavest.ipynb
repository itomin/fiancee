{
 "cells": [
  {
   "cell_type": "code",
   "execution_count": 6,
   "id": "1ba391f7-d07f-42df-9586-869d62f09f88",
   "metadata": {},
   "outputs": [],
   "source": [
    "# https://github.com/prediqtiv/alpha-vantage-cookbook/blob/master/data/NASDAQ.txt"
   ]
  },
  {
   "cell_type": "code",
   "execution_count": 5,
   "id": "a3080557-b721-44a0-b548-33184e3efafb",
   "metadata": {},
   "outputs": [],
   "source": [
    "import pandas as pd\n",
    "import time\n",
    "import requests\n",
    "from google.cloud import bigquery"
   ]
  },
  {
   "cell_type": "code",
   "execution_count": 6,
   "id": "05f18e61-b9cd-4bfe-a0fb-4f4223fbe59f",
   "metadata": {},
   "outputs": [],
   "source": [
    
    "client = bigquery.Client()\n",
    "job_config = bigquery.LoadJobConfig()\n",
    "job_config.autodetect = True"
   ]
  },
  {
   "cell_type": "code",
   "execution_count": 7,
   "id": "1237a66c-7848-4225-981b-e5970a4a2e58",
   "metadata": {},
   "outputs": [],
   "source": [
    "class KeyExpiredException(Exception):\n",
    "    pass\n",
    "    \n",
    "def getFinancials(symbol, function):\n",
    "    \"\"\"\n",
    "    service = [BALANCE_SHEET, DIVIDENDS, INCOME_STATEMENT, CASH_FLOW, EARNINGS]\n",
    "    \"\"\"\n",
    "    API_url = f'https://www.alphavantage.co/query?function={function}&symbol={symbol}&apikey={API_key}'\n",
    "    data = requests.get(API_url).json()    \n",
    "    if data == {}:\n",
    "        raise Exception(\"No data avalaible\")\n",
    "\n",
    "    if \"Error Message\" in data:\n",
    "        raise Exception(data[\"Error Message\"])\n",
    "        \n",
    "        \n",
    "    if keyExperied(data):\n",
    "        raise KeyExpiredException(data[\"Information\"])\n",
    "\n",
    "    \n",
    "    if function == \"DIVIDENDS\":\n",
    "        df = pd.DataFrame(data[\"data\"])\n",
    "        df[\"symbol\"] = data[\"symbol\"]\n",
    "        return df\n",
    "\n",
    "    if function == \"EARNINGS\":\n",
    "        df_year = pd.DataFrame(data[\"annualEarnings\"])\n",
    "        df_year[\"reporting\"] = \"Y\"\n",
    "        df_quat = pd.DataFrame(data[\"quarterlyEarnings\"])\n",
    "        df_quat[\"reporting\"] = \"Q\"\n",
    "        df = pd.concat([df_year, df_quat], ignore_index=True)\n",
    "        df[\"symbol\"] = data[\"symbol\"]\n",
    "        return df\n",
    "    \n",
    "    \n",
    "    df_year = pd.DataFrame(data[\"annualReports\"])\n",
    "    df_year[\"reporting\"] = \"Y\"\n",
    "    df_quat = pd.DataFrame(data[\"quarterlyReports\"])\n",
    "    df_quat[\"reporting\"] = \"Q\"\n",
    "    df = pd.concat([df_year, df_quat], ignore_index=True)\n",
    "    df[\"symbol\"] = data[\"symbol\"]\n",
    "    return df\n",
    "\n",
    "\n",
    "def keyExperied(res):\n",
    "    return \"Information\" in res and \"rate limit\" in res[\"Information\"]  \n",
    "\n",
    "\n",
    "def persist(df, financial):\n",
    "    datasetName = \"financials\"\n",
    "    dataset  = client.dataset(datasetName)\n",
    "    table = dataset.table(financial)\n",
    "    job = client.load_table_from_dataframe(df, table, job_config=job_config)\n",
    "    job.result()\n",
    "\n",
    "def isProcessed(symbol, function):\n",
    "    query_job = client.query(f'select symbol from `fiancee.financials.{function}` where symbol = \"{symbol}\"')  # API request\n",
    "    if len(list(query_job.result())) > 0:\n",
    "        return True\n",
    "    query_job = client.query(f'select symbol from `fiancee.financials.metadata` where symbol = \"{symbol}\" and report = \"{function}\"')  # API request\n",
    "    if len(list(query_job.result())) > 0:\n",
    "        return True\n",
    "    return False"
   ]
  },
  {
   "cell_type": "code",
   "execution_count": 9,
   "id": "1435a8df-8540-4dea-b632-0f455c4505c8",
   "metadata": {
    "scrolled": true
   },
   "outputs": [
    {
     "name": "stdout",
     "output_type": "stream",
     "text": [
      "CCJ\n",
      "ZAL\n",
      "Failed to process: ZAL BALANCE_SHEET due to error No data avalaible\n",
      "Failed to process: ZAL INCOME_STATEMENT due to error No data avalaible\n",
      "Failed to process: ZAL CASH_FLOW due to error No data avalaible\n",
      "Failed to process: ZAL EARNINGS due to error No data avalaible\n",
      "UEC\n"
     ]
    }
   ],
   "source": [
    "url = \"https://raw.githubusercontent.com/prediqtiv/alpha-vantage-cookbook/master/data/NASDAQ.txt\"\n",
    "df = pd.read_csv(url, delimiter='\\t')\n",
    "_df = df.head(1000)\n",
    "\n",
    "# symbols = _df.Symbol.values\n",
    "symbols = [\"CCJ\", \"ZAL\", \"UEC\"]\n",
    "\n",
    "for symbol in symbols:\n",
    "    print(symbol)\n",
    "    isExpired = False\n",
    "    for fun in [\"BALANCE_SHEET\", \"DIVIDENDS\", \"INCOME_STATEMENT\", \"CASH_FLOW\", \"EARNINGS\"]:\n",
    "        if not isProcessed(symbol, fun):\n",
    "            try:\n",
    "                df = getFinancials(symbol, fun)\n",
    "                persist(df, fun) \n",
    "            except KeyExpiredException as e:\n",
    "                print(\"Key expired:\", API_key)\n",
    "                isExpired = True\n",
    "                break\n",
    "            except Exception as e:\n",
    "                persist(pd.DataFrame([{\"symbol\" : symbol, \"report\" : fun, \"avalaible\" : False}]) , \"metadata\") \n",
    "                print(\"Failed to process:\", symbol, fun, \"due to error\", e)\n",
    "        else:\n",
    "            print(symbol, fun, \" is already processed\")\n",
    "\n",
    "    if isExpired:\n",
    "        print(\"Finish processing\")\n",
    "        break\n",
    "        \n",
    "        \n"
   ]
  },
  {
   "cell_type": "code",
   "execution_count": 11,
   "id": "20ec39ef-b850-471a-b42c-97227242f19d",
   "metadata": {},
   "outputs": [],
   "source": [
    "# function = \"BALANCE_SHEET\"\n",
    "# symbol = \"AABA\"\n",
    "# API_key = \"F5UOTYQ2089J55ZA\"\n",
    "# API_url = f'https://www.alphavantage.co/query?function={function}&symbol={symbol}&apikey={API_key}'\n",
    "# data = requests.get(API_url).json()    \n"
   ]
  },
  {
   "cell_type": "code",
   "execution_count": 12,
   "id": "ae8578c8-1954-488a-a3e6-6a38480c545c",
   "metadata": {},
   "outputs": [],
   "source": [
    "# data\n",
    "# pd.DataFrame(data[\"annualReports\"])"
   ]
  },
  {
   "cell_type": "code",
   "execution_count": 13,
   "id": "76483a14-276e-451e-b336-12ae011649c4",
   "metadata": {},
   "outputs": [],
   "source": [
    "# res = {'Information': 'Thank you for using Alpha Vantage! Our standard API rate limit is 25 requests per day. Please subscribe to any of the premium plans at https://www.alphavantage.co/premium/ to instantly remove all daily rate limits.'}\n",
    "# \"rate limit\" in res[\"Information\"] "
   ]
  },
  {
   "cell_type": "code",
   "execution_count": 14,
   "id": "30960e27-f2c2-46c5-914d-e910a553eb7f",
   "metadata": {},
   "outputs": [],
   "source": [
    "# pd.DataFrame([{\"symbol\" : \"AAAP\", \"report\" : \"BALAB\", \"avalaible\" : True}]) \n"
   ]
  },
  {
   "cell_type": "code",
   "execution_count": 15,
   "id": "97a7b250-6bdc-4113-8237-b5a17bf8644c",
   "metadata": {},
   "outputs": [],
   "source": [
    "persist(pd.DataFrame([{\"symbol\" : \"TEST\", \"report\" : \"BALANCE_SHEET\", \"avalaible\" : False}]) , \"metadata\") "
   ]
  },
  {
   "cell_type": "code",
   "execution_count": null,
   "id": "5a1d1108-817a-4769-8076-0e2a408e13d3",
   "metadata": {},
   "outputs": [],
   "source": []
  }
 ],
 "metadata": {
  "kernelspec": {
   "display_name": "fiancee-4Zif6Pyw",
   "language": "python",
   "name": "fiancee-4zif6pyw"
  },
  "language_info": {
   "codemirror_mode": {
    "name": "ipython",
    "version": 3
   },
   "file_extension": ".py",
   "mimetype": "text/x-python",
   "name": "python",
   "nbconvert_exporter": "python",
   "pygments_lexer": "ipython3",
   "version": "3.11.5"
  }
 },
 "nbformat": 4,
 "nbformat_minor": 5
}
