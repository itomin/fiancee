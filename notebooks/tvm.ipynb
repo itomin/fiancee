{
 "cells": [
  {
   "cell_type": "code",
   "execution_count": 22,
   "source": [
    "from tvm import * \r\n",
    "import numpy as np"
   ],
   "outputs": [],
   "metadata": {}
  },
  {
   "cell_type": "code",
   "execution_count": 19,
   "source": [
    "# Suppose you want $500,000 when you retire 25 years from now.\r\n",
    "# How much must you invest each year, starting at the end of this year,\r\n",
    "# if the interest-rate is 8%\r\n",
    "pmt(n=25, r = 0.08, fv=500000)"
   ],
   "outputs": [
    {
     "output_type": "execute_result",
     "data": {
      "text/plain": [
       "6839.389525984058"
      ]
     },
     "metadata": {},
     "execution_count": 19
    }
   ],
   "metadata": {}
  },
  {
   "cell_type": "code",
   "execution_count": 3,
   "source": [
    "# Suppose you have a loan of $100,000, what is your yearly\r\n",
    "# payment, when you want to payoff the loan in 5 years at the interest\r\n",
    "# rate of 10%\r\n",
    "pmt(n=5, r = 0.1, pv=100000)"
   ],
   "outputs": [
    {
     "output_type": "execute_result",
     "data": {
      "text/plain": [
       "26379.74807947454"
      ]
     },
     "metadata": {},
     "execution_count": 3
    }
   ],
   "metadata": {}
  },
  {
   "cell_type": "code",
   "execution_count": 34,
   "source": [
    "# Suppose you have a loan of $100,000, what are your monthly\r\n",
    "# payments, when you want to payoff the loan in 5 years at the interest\r\n",
    "# rate of 10%\r\n",
    "pmt(n=5*12, r = 0.1/12, pv=100000)"
   ],
   "outputs": [
    {
     "output_type": "execute_result",
     "data": {
      "text/plain": [
       "2124.7044711268263"
      ]
     },
     "metadata": {},
     "execution_count": 34
    }
   ],
   "metadata": {}
  },
  {
   "cell_type": "code",
   "execution_count": 15,
   "source": [
    "# Suppose you want to pay $10,000 each year on your account\r\n",
    "# for 25 years at the interest rate of 8%, what is your \r\n",
    "# bank account after 25 years\r\n",
    "fval(0, n=40, r = 0.08,pmt=10000) "
   ],
   "outputs": [
    {
     "output_type": "execute_result",
     "data": {
      "text/plain": [
       "2590565.187099985"
      ]
     },
     "metadata": {},
     "execution_count": 15
    }
   ],
   "metadata": {}
  },
  {
   "cell_type": "code",
   "execution_count": 14,
   "source": [
    "# How much money do you need to put\r\n",
    "# in the bank today so that you can \r\n",
    "# spend $10,000 every year for the next 25 years,\r\n",
    "# starting at the end of this year? \r\n",
    "# if r = 0 than you need 250000 on your bank account\r\n",
    "pval(0, n=25, r = 0.05,pmt=10000)"
   ],
   "outputs": [
    {
     "output_type": "execute_result",
     "data": {
      "text/plain": [
       "119246.13333746312"
      ]
     },
     "metadata": {},
     "execution_count": 14
    }
   ],
   "metadata": {}
  },
  {
   "cell_type": "code",
   "execution_count": 7,
   "source": [
    "# e.g what is the balance if I pay 750€ on my account every 3 month \r\n",
    "# for 10 years at the interest rate of 5%. \r\n",
    "compound_fixed(0, 750, 0.05, 4*10, m=4)[-1]"
   ],
   "outputs": [
    {
     "output_type": "execute_result",
     "data": {
      "text/plain": [
       "38905.663802471194"
      ]
     },
     "metadata": {},
     "execution_count": 7
    }
   ],
   "metadata": {}
  },
  {
   "cell_type": "code",
   "execution_count": 31,
   "source": [
    "# yearly payment when taking a loan of 100k at 10% interest rate\r\n",
    "yearly_pmt = pmt(n=5, r = 0.1, pv=100000)\r\n",
    "print(\"yearly_pmt\", yearly_pmt)\r\n",
    "# remaining balance after 5 years\r\n",
    "pval(0, r=0.1, n=3, pmt=yearly_pmt)"
   ],
   "outputs": [
    {
     "output_type": "stream",
     "name": "stdout",
     "text": [
      "yearly_pmt 26379.74807947454\n"
     ]
    },
    {
     "output_type": "execute_result",
     "data": {
      "text/plain": [
       "65602.52903310346"
      ]
     },
     "metadata": {},
     "execution_count": 31
    }
   ],
   "metadata": {}
  },
  {
   "cell_type": "code",
   "execution_count": 35,
   "source": [
    "2124.7044711268263 * 5*12"
   ],
   "outputs": [
    {
     "output_type": "execute_result",
     "data": {
      "text/plain": [
       "127482.26826760959"
      ]
     },
     "metadata": {},
     "execution_count": 35
    }
   ],
   "metadata": {}
  },
  {
   "cell_type": "code",
   "execution_count": null,
   "source": [],
   "outputs": [],
   "metadata": {}
  },
  {
   "cell_type": "code",
   "execution_count": null,
   "source": [],
   "outputs": [],
   "metadata": {}
  },
  {
   "cell_type": "code",
   "execution_count": null,
   "source": [],
   "outputs": [],
   "metadata": {}
  },
  {
   "cell_type": "code",
   "execution_count": null,
   "source": [],
   "outputs": [],
   "metadata": {}
  }
 ],
 "metadata": {
  "kernelspec": {
   "name": "python3",
   "display_name": "Python 3.8.5 64-bit ('base': conda)"
  },
  "language_info": {
   "codemirror_mode": {
    "name": "ipython",
    "version": 3
   },
   "file_extension": ".py",
   "mimetype": "text/x-python",
   "name": "python",
   "nbconvert_exporter": "python",
   "pygments_lexer": "ipython3",
   "version": "3.8.5"
  },
  "interpreter": {
   "hash": "c49203761e2c45c3cb6e8e8358e09b0f3dc22c6ff18ba224cbeff6883e58c785"
  }
 },
 "nbformat": 4,
 "nbformat_minor": 4
}