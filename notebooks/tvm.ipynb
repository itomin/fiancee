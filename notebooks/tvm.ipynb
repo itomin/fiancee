{
 "cells": [
  {
   "cell_type": "markdown",
   "metadata": {},
   "source": [
    "### Present Value Concepts\n",
    "\n",
    "**Future Value $fv$**: we move cashflow forward in time at interest rate $r$.  \n",
    "*What is my money today worth in the future.*   \n",
    "\n",
    "$fv = pv * (1+r)$\n",
    "\n",
    "**Present Value $pv$** (also called Discouned Value): we move cashflow back in time.  \n",
    "*I want to have cashflow C in the future, how much money do I need to invest today.*\n",
    "\n",
    "$pv = \\frac{fv}{(1+r)}$\n",
    "\n",
    "**Net Present Value $npv$**:  \n",
    "\n",
    "$C_0 + \\frac{C_1}{1+r}$\n"
   ]
  },
  {
   "cell_type": "code",
   "execution_count": 1,
   "metadata": {},
   "outputs": [],
   "source": [
    "from tvm import * \n",
    "import numpy as np\n",
    "from itertools import * \n",
    "import numpy_financial as npf\n",
    "import pandas as pd"
   ]
  },
  {
   "cell_type": "code",
   "execution_count": null,
   "metadata": {},
   "outputs": [],
   "source": []
  },
  {
   "cell_type": "markdown",
   "metadata": {},
   "source": [
    "### Practical Examples\n"
   ]
  },
  {
   "cell_type": "code",
   "execution_count": 2,
   "metadata": {},
   "outputs": [
    {
     "name": "stdout",
     "output_type": "stream",
     "text": [
      "-6839.389525984054\n"
     ]
    }
   ],
   "source": [
    "# Suppose you want $500,000 when you retire 25 years from now.\n",
    "# How much must you invest each year, starting at the end of this year,\n",
    "# if the interest-rate is 8%a\n",
    "print(npf.pmt(0.08,25,pv=0,fv=500000))"
   ]
  },
  {
   "cell_type": "code",
   "execution_count": 3,
   "metadata": {},
   "outputs": [
    {
     "name": "stdout",
     "output_type": "stream",
     "text": [
      "-26379.748079474524\n"
     ]
    }
   ],
   "source": [
    "# Suppose you have a loan of $100,000, what is your yearly\n",
    "# payment, when you want to payoff the loan in 5 years at the interest\n",
    "# rate of 10%\n",
    "print(npf.pmt(0.1,5,pv=100000))"
   ]
  },
  {
   "cell_type": "code",
   "execution_count": 4,
   "metadata": {},
   "outputs": [
    {
     "name": "stdout",
     "output_type": "stream",
     "text": [
      "-2124.704471126833\n"
     ]
    }
   ],
   "source": [
    "# Suppose you have a loan of $100,000, what are your monthly\n",
    "# payments, when you want to payoff the loan in 5 years at the interest\n",
    "# rate of 10%\n",
    "print(npf.pmt(0.1/12,5*12,pv=100000))"
   ]
  },
  {
   "cell_type": "code",
   "execution_count": 5,
   "metadata": {},
   "outputs": [
    {
     "name": "stdout",
     "output_type": "stream",
     "text": [
      "-2590565.1870999876\n"
     ]
    }
   ],
   "source": [
    "# Suppose you want to pay $10,000 each year on your account\n",
    "# for 25 years at the interest rate of 8%, what is your \n",
    "# bank account after 25 years\n",
    "print(npf.fv(0.08,40,pv=0,pmt=10000))"
   ]
  },
  {
   "cell_type": "code",
   "execution_count": 6,
   "metadata": {},
   "outputs": [
    {
     "name": "stdout",
     "output_type": "stream",
     "text": [
      "-140939.4456604476\n"
     ]
    }
   ],
   "source": [
    "# How much money do you need to put in the bank today so that you can \n",
    "# spend $10,000 every year for the next 25 years, starting at the\n",
    "# end of this year? if r = 0 than you need 250000 on your bank account\n",
    "print(npf.pv(0.05,25,fv=0,pmt=10000))"
   ]
  },
  {
   "cell_type": "code",
   "execution_count": 7,
   "metadata": {},
   "outputs": [
    {
     "data": {
      "text/plain": [
       "38905.663802471194"
      ]
     },
     "execution_count": 7,
     "metadata": {},
     "output_type": "execute_result"
    }
   ],
   "source": [
    "# e.g what is the balance if I pay 750€ on my account every 3 month \n",
    "# for 10 years at the interest rate of 5%. \n",
    "compound_fixed(0, 750, 0.05, 4*10, m=4)[-1]"
   ]
  },
  {
   "cell_type": "code",
   "execution_count": 8,
   "metadata": {},
   "outputs": [
    {
     "name": "stdout",
     "output_type": "stream",
     "text": [
      "yearly_pmt 26379.74807947454\n"
     ]
    },
    {
     "data": {
      "text/plain": [
       "65602.52903310346"
      ]
     },
     "execution_count": 8,
     "metadata": {},
     "output_type": "execute_result"
    }
   ],
   "source": [
    "# yearly payment when taking a loan of 100k at 10% interest rate\n",
    "yearly_pmt = pmt(n=5, r = 0.1, pv=100000)\n",
    "print(\"yearly_pmt\", yearly_pmt)\n",
    "# remaining balance after 5 years\n",
    "pval(0, r=0.1, n=3, pmt=yearly_pmt)"
   ]
  },
  {
   "cell_type": "code",
   "execution_count": 9,
   "metadata": {},
   "outputs": [
    {
     "data": {
      "text/plain": [
       "9937.733254980118"
      ]
     },
     "execution_count": 9,
     "metadata": {},
     "output_type": "execute_result"
    }
   ],
   "source": [
    "# Suppose you save the next 20 years until you are 50. Then you pause saving for the next 10y until you are 60\n",
    "# Then from 60y to 80y you want to spend 100k every year. How much money you need to pay in every year from 30-50\n",
    "#  to afford this, given interest rate is 8%\n",
    "\n",
    "# in year 60 I need to put this amount in order to be able to spen 100k every year till 80y\n",
    "p60 = pval(0, 0.08,n=20, pmt=100000)\n",
    "# from 50-to 60 you rest the money at interest rate r\n",
    "p50 = pval(p60, 0.08, 10)\n",
    "# this iy yearly payment to achive fv after 20 years.\n",
    "pmt(r=0.08,n=20, fv=p50)"
   ]
  },
  {
   "cell_type": "code",
   "execution_count": 10,
   "metadata": {},
   "outputs": [
    {
     "data": {
      "text/plain": [
       "0.9643236349601236"
      ]
     },
     "execution_count": 10,
     "metadata": {},
     "output_type": "execute_result"
    }
   ],
   "source": [
    "# The stated annual interest rate is 11%, but interest is \n",
    "# compounded semi-annually and payments are monthly.\n",
    "# What is the EAR?\n",
    "((1+0.11/12)**12 - 1) / 12 * 100\n"
   ]
  },
  {
   "cell_type": "code",
   "execution_count": 11,
   "metadata": {},
   "outputs": [
    {
     "data": {
      "text/plain": [
       "139956.96930642682"
      ]
     },
     "execution_count": 11,
     "metadata": {},
     "output_type": "execute_result"
    }
   ],
   "source": [
    "# Gloria is 39 and trying to plan for retirement. \n",
    "# She has put a budget together and plans to save $4,700 per year, \n",
    "# starting at the end of this year, in a retirement fund until she is 59.\n",
    "#  Assume that she can make 4.0% on her account. How much will \n",
    "#  she have for retirement at age 59?\n",
    "pmt = 4700 \n",
    "n = 20\n",
    "r = 0.04\n",
    "fval(0, r=r,n=n,pmt=pmt)"
   ]
  },
  {
   "cell_type": "code",
   "execution_count": 12,
   "metadata": {},
   "outputs": [
    {
     "name": "stdout",
     "output_type": "stream",
     "text": [
      "48319.335083552374\n",
      "47348.869013157644\n"
     ]
    }
   ],
   "source": [
    "# Dominique has just turned 58 and she has deposited her annual payment\n",
    "# of $15,000 into her retirement account. She made her first such saving\n",
    "# deposit into this fund on her 31st birthday. Dominique has also retired\n",
    "# and wants to figure out how much money she has in her retirement account\n",
    "# for her retired life. You are Dominique's friend who knows finance. How much\n",
    "# is Dominique's savings worth today given that the fund has earned an annual\n",
    "# return of 3.0%? (Enter just the number in dollars without the $ sign or a\n",
    "# comma and round off decimals to the closest integer, i.e., rounding $30.49\n",
    "# down to $30 and rounding $30.50 up to $31.)\n",
    "pmt = 15000\n",
    "n = 27\n",
    "r = 0.03\n",
    "print(fval(15000,r=r,n=n) + 15000)\n",
    "print(fval(15000,r=r,n=n-1)+15000)\n"
   ]
  },
  {
   "cell_type": "code",
   "execution_count": 13,
   "metadata": {},
   "outputs": [
    {
     "data": {
      "text/plain": [
       "804383.6116456415"
      ]
     },
     "execution_count": 13,
     "metadata": {},
     "output_type": "execute_result"
    }
   ],
   "source": [
    "# Gerard has estimated that he is going to need enough \n",
    "# in his retirement fund to withdraw $85,000 per year beginning\n",
    "# on his 66th birthday and for 19 additional years thereafter.\n",
    "# How much will Gerard need in his retirement account at age 65 \n",
    "# if his fund is expected to earn an annual return of 8.5%?\n",
    "pmt = 85000\n",
    "n = 20\n",
    "r = 0.085\n",
    "pval(fv=0,r=r,n=n,pmt=pmt)"
   ]
  },
  {
   "cell_type": "code",
   "execution_count": 14,
   "metadata": {},
   "outputs": [
    {
     "data": {
      "text/plain": [
       "224170.29996036002"
      ]
     },
     "execution_count": 14,
     "metadata": {},
     "output_type": "execute_result"
    }
   ],
   "source": [
    "# Huiling owns a rental property on Main street, but she is considering \n",
    "# selling the property to another real estate investor. In preparation\n",
    "# for negotiating a price, Huiling wants to know the value of the property.\n",
    "# The Net Operating Income (NOI) is the cash flow from real estate and the\n",
    "# Cap Rate is the rate, where NOI is rental revenue less all expenses except \n",
    "# loan servicing. The property has an NOI of $21,000 per year. The local real\n",
    "# estate market has a cap rate of 8%. What is a fair price for the property \n",
    "# assuming that the building's remaining life is 25 years? \n",
    "pmt = 21000\n",
    "r = 0.08\n",
    "n = 25\n",
    "fv = fval(0, n=n,r=r, pmt=pmt)\n",
    "pval(fv,r=r,n=n)"
   ]
  },
  {
   "cell_type": "code",
   "execution_count": 42,
   "metadata": {},
   "outputs": [
    {
     "name": "stdout",
     "output_type": "stream",
     "text": [
      "306000.0\n"
     ]
    },
    {
     "ename": "TypeError",
     "evalue": "'int' object is not callable",
     "output_type": "error",
     "traceback": [
      "\u001b[1;31m---------------------------------------------------------------------------\u001b[0m",
      "\u001b[1;31mTypeError\u001b[0m                                 Traceback (most recent call last)",
      "\u001b[1;32m<ipython-input-42-22e126d7dcc5>\u001b[0m in \u001b[0;36m<module>\u001b[1;34m\u001b[0m\n\u001b[0;32m      9\u001b[0m \u001b[0mn\u001b[0m \u001b[1;33m=\u001b[0m \u001b[1;36m15\u001b[0m\u001b[1;33m\u001b[0m\u001b[1;33m\u001b[0m\u001b[0m\n\u001b[0;32m     10\u001b[0m \u001b[0mr\u001b[0m \u001b[1;33m=\u001b[0m \u001b[1;36m0.0625\u001b[0m\u001b[1;33m\u001b[0m\u001b[1;33m\u001b[0m\u001b[0m\n\u001b[1;32m---> 11\u001b[1;33m \u001b[0mpmt\u001b[0m\u001b[1;33m(\u001b[0m\u001b[0mr\u001b[0m\u001b[1;33m=\u001b[0m\u001b[0mr\u001b[0m\u001b[1;33m/\u001b[0m\u001b[1;36m12\u001b[0m\u001b[1;33m,\u001b[0m\u001b[0mn\u001b[0m\u001b[1;33m=\u001b[0m\u001b[0mn\u001b[0m\u001b[1;33m*\u001b[0m\u001b[1;36m12\u001b[0m\u001b[1;33m,\u001b[0m\u001b[0mpv\u001b[0m\u001b[1;33m=\u001b[0m\u001b[0mloan\u001b[0m\u001b[1;33m)\u001b[0m\u001b[1;33m\u001b[0m\u001b[1;33m\u001b[0m\u001b[0m\n\u001b[0m",
      "\u001b[1;31mTypeError\u001b[0m: 'int' object is not callable"
     ]
    }
   ],
   "source": [
    "# Melanie and Stephen Jackson are purchasing their first house. \n",
    "# The house costs $340,000. They have put a 10% down payment\n",
    "#  (that is, an amount that banks should require you to pay out-of-pocket), but will therefore \n",
    "# finance the rest. They are considering a fixed rate 15-year mortgage \n",
    "# at a 6.25% APR with monthly payments. How much will the Jacksons' first monthly payment be?\n",
    "pv = 340000\n",
    "loan = pv - pv*0.1\n",
    "print(loan)\n",
    "n = 15\n",
    "r = 0.0625\n",
    "pmt(r=r/12,n=n*12,pv=loan)"
   ]
  },
  {
   "cell_type": "code",
   "execution_count": null,
   "metadata": {},
   "outputs": [
    {
     "data": {
      "text/plain": [
       "263.3618073926806"
      ]
     },
     "execution_count": 31,
     "metadata": {},
     "output_type": "execute_result"
    }
   ],
   "source": [
    "# Bridgette's grandparents opened a savings account for \n",
    "# her and placed $700 in the account. The account pays 3.5% interest.\n",
    "#  Bridgette wants to be a singer and she has her heart set on \n",
    "# a new karaoke machine. The machine costs $200. How much less will \n",
    "# the account be worth in 8 years if she buys the karaoke machine now versus leaving the account untouched? \n",
    "npf.fv(rate=0.035, nper=8,pmt=0, pv=700)*-1 - npf.fv(rate=0.035, nper=8,pmt=0, pv=500)*-1"
   ]
  },
  {
   "cell_type": "code",
   "execution_count": 41,
   "metadata": {},
   "outputs": [
    {
     "data": {
      "text/html": [
       "<div>\n",
       "<style scoped>\n",
       "    .dataframe tbody tr th:only-of-type {\n",
       "        vertical-align: middle;\n",
       "    }\n",
       "\n",
       "    .dataframe tbody tr th {\n",
       "        vertical-align: top;\n",
       "    }\n",
       "\n",
       "    .dataframe thead th {\n",
       "        text-align: right;\n",
       "    }\n",
       "</style>\n",
       "<table border=\"1\" class=\"dataframe\">\n",
       "  <thead>\n",
       "    <tr style=\"text-align: right;\">\n",
       "      <th></th>\n",
       "      <th>repay</th>\n",
       "      <th>interest</th>\n",
       "      <th>pmt</th>\n",
       "    </tr>\n",
       "  </thead>\n",
       "  <tbody>\n",
       "    <tr>\n",
       "      <th>0</th>\n",
       "      <td>100000.000000</td>\n",
       "      <td>500.000000</td>\n",
       "      <td>1933.280153</td>\n",
       "    </tr>\n",
       "    <tr>\n",
       "      <th>1</th>\n",
       "      <td>98566.719847</td>\n",
       "      <td>492.833599</td>\n",
       "      <td>1933.280153</td>\n",
       "    </tr>\n",
       "    <tr>\n",
       "      <th>2</th>\n",
       "      <td>97126.273293</td>\n",
       "      <td>485.631366</td>\n",
       "      <td>1933.280153</td>\n",
       "    </tr>\n",
       "    <tr>\n",
       "      <th>3</th>\n",
       "      <td>95678.624507</td>\n",
       "      <td>478.393123</td>\n",
       "      <td>1933.280153</td>\n",
       "    </tr>\n",
       "    <tr>\n",
       "      <th>4</th>\n",
       "      <td>94223.737476</td>\n",
       "      <td>471.118687</td>\n",
       "      <td>1933.280153</td>\n",
       "    </tr>\n",
       "  </tbody>\n",
       "</table>\n",
       "</div>"
      ],
      "text/plain": [
       "           repay    interest          pmt\n",
       "0  100000.000000  500.000000  1933.280153\n",
       "1   98566.719847  492.833599  1933.280153\n",
       "2   97126.273293  485.631366  1933.280153\n",
       "3   95678.624507  478.393123  1933.280153\n",
       "4   94223.737476  471.118687  1933.280153"
      ]
     },
     "execution_count": 41,
     "metadata": {},
     "output_type": "execute_result"
    }
   ],
   "source": [
    "# You take a loan of 100k at 6% interest rate, what is your yearly payments\n",
    "# if you have to payback after 5 years \n",
    "r = 0.06 / 12\n",
    "n = 5 * 12\n",
    "loan = 100000\n",
    "yearly_pmt = -1*npf.pmt(rate=r, nper = n, pv=loan)\n",
    "repay = [-1 * npf.pv(rate=r,nper=n-i, fv=0, pmt=yearly_pmt) for i in range(n)]\n",
    "interest = [ r * pmt for pmt in repay]\n",
    "pd.DataFrame({\"repay\" : repay, \"interest\" : interest, \"pmt\" : yearly_pmt }).head()\n"
   ]
  },
  {
   "cell_type": "code",
   "execution_count": null,
   "metadata": {},
   "outputs": [
    {
     "data": {
      "text/plain": [
       "73074.7030261689"
      ]
     },
     "execution_count": 46,
     "metadata": {},
     "output_type": "execute_result"
    }
   ],
   "source": [
    "-1 * npf.pv(rate=r,nper=n-18, fv=0, pmt=yearly_pmt)"
   ]
  },
  {
   "cell_type": "code",
   "execution_count": null,
   "metadata": {},
   "outputs": [
    {
     "name": "stdout",
     "output_type": "stream",
     "text": [
      "17739.640043118947 82260.35995688106\n"
     ]
    },
    {
     "data": {
      "text/plain": [
       "63456.34151117498"
      ]
     },
     "execution_count": 31,
     "metadata": {},
     "output_type": "execute_result"
    }
   ],
   "source": [
    "loan_rest = loan - (yearly_pmt - loan * 0.06)\n",
    "print(yearly_pmt - loan * 0.06, loan_rest)\n",
    "loan_rest - (yearly_pmt - loan_rest * 0.06)"
   ]
  },
  {
   "cell_type": "code",
   "execution_count": null,
   "metadata": {},
   "outputs": [
    {
     "name": "stdout",
     "output_type": "stream",
     "text": [
      "after 7 years 115747.6144226074\n"
     ]
    },
    {
     "data": {
      "text/plain": [
       "100902.30466235334"
      ]
     },
     "execution_count": 60,
     "metadata": {},
     "output_type": "execute_result"
    }
   ],
   "source": [
    "# You have invested $75,000 in a trust fund at 7.5 percent\n",
    "#  for your child's education. Your child will draw $12,000 \n",
    "# per year from this fund for four years, starting at the end\n",
    "#  of year seven. What will be the amount that will be left \n",
    "# over in this fund at end of year 10 after the child has\n",
    "#  withdrawn the fourth time?\n",
    "pv = 75000\n",
    "r = 0.075\n",
    "n = 7\n",
    "p7 = npf.fv(rate=r,nper=n-1,pv=pv, pmt=0) * -1\n",
    "print(\"after 7 years\", p7)\n",
    "npf.fv(rate=r,nper=4,pv=p7,pmt=-12000) * -1\n"
   ]
  },
  {
   "cell_type": "code",
   "execution_count": 107,
   "metadata": {},
   "outputs": [
    {
     "data": {
      "text/plain": [
       "0.10381289062499954"
      ]
     },
     "execution_count": 107,
     "metadata": {},
     "output_type": "execute_result"
    }
   ],
   "source": [
    "# Carlos goes to the bank to take out a personal loan. \n",
    "# The stated annual interest rate is 8%, but interest \n",
    "# is compounded quarterly and he will make monthly payments. What is the EAR?\n",
    "(1+0.1 / 4)**4 - 1\n"
   ]
  },
  {
   "cell_type": "code",
   "execution_count": 138,
   "metadata": {},
   "outputs": [
    {
     "data": {
      "text/plain": [
       "-219863.92202145964"
      ]
     },
     "execution_count": 138,
     "metadata": {},
     "output_type": "execute_result"
    }
   ],
   "source": [
    "# Gloria is 35 and trying to plan for retirement. She has put a budget together\n",
    "# and plans to save $4,000 per year, starting at the end of this year, in a retirement \n",
    "# fund until she is 61. Assume that she can make 5.5% on her account. \n",
    "# How much will she have for retirement at age 61?\n",
    "pmt = 4000\n",
    "n = 61 - 35\n",
    "r = 0.055\n",
    "npf.fv(rate=r,nper=n,pv=0,pmt=pmt) "
   ]
  },
  {
   "cell_type": "code",
   "execution_count": 149,
   "metadata": {},
   "outputs": [
    {
     "data": {
      "text/plain": [
       "678283"
      ]
     },
     "execution_count": 149,
     "metadata": {},
     "output_type": "execute_result"
    }
   ],
   "source": [
    "# Dominique has just turned 60 and she has deposited her annual payment of $15,000 \n",
    "# into her retirement account. She made her first such saving deposit into this fund\n",
    "# on her 32nd birthday. Dominique has also retired and wants to figure out how much \n",
    "# money she has in her retirement account for her retired life. You are Dominique's\n",
    "# friend who knows finance. How much is Dominique's savings worth today given that\n",
    "# the fund has earned an annual return of 4.5%? \n",
    "pmt  = 15000\n",
    "n = 62 - 34 + 1\n",
    "r = 0.03\n",
    "round(npf.fv(rate=r,nper=n,pv=0,pmt=pmt)*-1)\n"
   ]
  },
  {
   "cell_type": "code",
   "execution_count": 150,
   "metadata": {},
   "outputs": [
    {
     "data": {
      "text/plain": [
       "1003882.8325744815"
      ]
     },
     "execution_count": 150,
     "metadata": {},
     "output_type": "execute_result"
    }
   ],
   "source": [
    "# Gerard has estimated that he is going to need enough in his\n",
    "# retirement fund to withdraw $85,000 per year beginning on his \n",
    "# 56th birthday and for 29 additional years thereafter. How much \n",
    "# will Gerard need in his retirement account at age 55 if his fund\n",
    "# is expected to earn an annual return of 7.5%?\n",
    "npf.pv(rate=0.075, nper= 30, fv=0, pmt=85000) * -1"
   ]
  },
  {
   "cell_type": "code",
   "execution_count": 123,
   "metadata": {},
   "outputs": [
    {
     "data": {
      "text/plain": [
       "-327483.8858589692"
      ]
     },
     "execution_count": 123,
     "metadata": {},
     "output_type": "execute_result"
    }
   ],
   "source": [
    "# Huiling owns a rental property on Main street, but she is considering selling the \n",
    "# property to another real estate investor. In preparation for negotiating a price, Huiling\n",
    "# wants to know the value of the property. The Net Operating Income (NOI) is the cash flow\n",
    "# from real estate and the Cap Rate is the rate, where NOI is rental revenue less all expenses\n",
    "# except loan servicing. The property has an NOI of $20,000 per year. The local real estate \n",
    "# market has a cap rate of 5%. What is a fair price for the property assuming that\n",
    "#  the building's remaining life is 35 years? \n",
    "pmt = 20000\n",
    "r = 0.05\n",
    "n =  35\n",
    "npf.fv(rate=r, nper=n,pmt=pmt, pv=0)  * -1\n",
    "\n",
    "npf.pv(rate=r,nper=n,fv=1806406.1470369026, pmt=0)"
   ]
  },
  {
   "cell_type": "code",
   "execution_count": 39,
   "metadata": {},
   "outputs": [
    {
     "data": {
      "text/plain": [
       "-3388.5927109448057"
      ]
     },
     "execution_count": 39,
     "metadata": {},
     "output_type": "execute_result"
    }
   ],
   "source": [
    "# Melanie and Stephen Jackson are purchasing their first house. \n",
    "# The house costs $400,000. They have put a 10% down payment \n",
    "# (that is, an amount that banks should require you to pay out-of-pocket), \n",
    "# but will therefore finance the rest. They are considering a fixed rate\n",
    "# 15-year mortgage at a 7.75% APR with monthly payments.\n",
    "#  How much will the Jacksons' first monthly payment be?\n",
    "loan = 400000 - 400000*0.1\n",
    "r = 0.0775\n",
    "n = 15\n",
    "npf.pmt(rate=r/12, nper=n*12,pv=loan)"
   ]
  },
  {
   "cell_type": "code",
   "execution_count": 48,
   "metadata": {},
   "outputs": [
    {
     "data": {
      "text/plain": [
       "-9551.82129708728"
      ]
     },
     "execution_count": 48,
     "metadata": {},
     "output_type": "execute_result"
    }
   ],
   "source": [
    "# Flora, who has just celebrated her 30th birthday, will retire on her \n",
    "# 62nd birthday, and she has just set up a retirement plan to pay her\n",
    "# income starting on her retirement day, and to continue paying for 19\n",
    "# more years. Flora's goal is to receive $120,000 for each of these\n",
    "# twenty years. In creating her retirement account, Flora has committed to set\n",
    "# aside equal investments at the end of each year, for the next 31 years starting \n",
    "# on her 31st birthday. If the annual interest rate is 8%, how big should Flora's equal investments be?\n",
    "n = 31\n",
    "n2 = 20\n",
    "pmt = 120000\n",
    "r = 0.08\n",
    "p62 = npf.pv(rate=r,nper=n2,pmt=120000, fv=0)*-1\n",
    "npf.pmt(rate=r, nper=n, fv=p62, pv=0)\n"
   ]
  },
  {
   "cell_type": "code",
   "execution_count": 54,
   "metadata": {},
   "outputs": [
    {
     "data": {
      "text/plain": [
       "-119999.92983463308"
      ]
     },
     "execution_count": 54,
     "metadata": {},
     "output_type": "execute_result"
    }
   ],
   "source": [
    "npf.pmt(rate=r,nper=20, pv=1178177)"
   ]
  },
  {
   "cell_type": "code",
   "execution_count": null,
   "metadata": {},
   "outputs": [],
   "source": [
    "# Flora, who has just celebrated her 30th birthday, will retire on her \n",
    "# 62nd birthday, and she has just set up a retirement plan to pay her\n",
    "# income starting on her retirement day, and to continue paying for 19\n",
    "# more years. Flora's goal is to receive $120,000 for each of these\n",
    "# twenty years. In creating her retirement account, Flora has committed to set\n",
    "# aside equal investments at the end of each year, for the next 31 years starting \n",
    "# on her 31st birthday. If the annual interest rate is 8%, how big should Flora's equal investments be?\n",
    "n = 62 - 31\n",
    "n2 = 19\n",
    "pmt = 120000\n",
    "r = 0.08\n",
    "npf.pv(rate=r,nper=n2,pmt=120000, fv=0)"
   ]
  },
  {
   "cell_type": "code",
   "execution_count": 37,
   "metadata": {},
   "outputs": [
    {
     "name": "stdout",
     "output_type": "stream",
     "text": [
      "monthly_pmt 212.9021400283454\n",
      "rest with 8%:  6794.091685278112\n",
      "pmt: 212.9021400283454 total_pmt: 5109.651360680289\n",
      "pmt: 200.58866105126793 pmt_diff: 12.313478977077466\n"
     ]
    }
   ],
   "source": [
    "# Two years ago Abilia purchased a $13,000 car; she paid $2,500 down and \n",
    "# borrowed the rest. She took a fixed rate 60-month installment loan at \n",
    "# a stated rate of 8.0% per year. Interest rates have fallen during the last\n",
    "#  two years and she can refinance her car by borrowing the amount she still \n",
    "# owes on the car at a new fixed rate of 4% per year for 3 years. Should Abilia \n",
    "# refinance her loan? How much will she save per month for the remainder of the\n",
    "#  loan life if she decides to refinance?\n",
    "loan = 13000 - 2500\n",
    "n1 = 60\n",
    "r1 = 0.08/12\n",
    "r2 = 0.04/12\n",
    "n2 = 3*12\n",
    "\n",
    "monthly_pmt = npf.pmt(rate=r1, nper=n1, pv=loan) * -1\n",
    "print(\"monthly_pmt\", monthly_pmt)\n",
    "owes= npf.pv(nper=3*12, rate=r1, pmt=monthly_pmt) * -1\n",
    "print(\"rest with 8%: \", owes)\n",
    "print(\"pmt:\", monthly_pmt, \"total_pmt:\", monthly_pmt*2*12)\n",
    "\n",
    "monthly_pmt_2 = npf.pmt(rate=r2, nper=n2, pv=owes) * -1\n",
    "print(\"pmt:\", monthly_pmt_2, \"pmt_diff:\", monthly_pmt- monthly_pmt_2)"
   ]
  },
  {
   "cell_type": "code",
   "execution_count": 155,
   "metadata": {},
   "outputs": [
    {
     "name": "stdout",
     "output_type": "stream",
     "text": [
      "monthly_pmt 2777.034346769709\n",
      "rest with 8%:  272280.0156213342\n",
      "total pmt:  666488.2432247301\n",
      "pmt: 2187.4318959939314\n",
      "total pmt:  571935.0314943995\n"
     ]
    }
   ],
   "source": [
    "# You have been living in the house you bought 9 years ago for $400,000.\n",
    "# At that time, you took out a loan for 80% of the house at a fixed rate 20-year \n",
    "# loan at an annual stated rate of 7.5%. You have just paid off the 108th monthly payment. \n",
    "# Interest rates have meanwhile dropped steadily to 4.5% per year, and you think it is \n",
    "# finally time to refinance the remaining balance over the residual loan life. But there \n",
    "# is a catch. The fee to refinance your loan is $4,000. Should you refinance the remaining\n",
    "#  balance? How much would you save/lose if you decided to refinance?\n",
    "loan = 400000 * 0.8\n",
    "n = 20 * 12\n",
    "r = 0.085/12\n",
    "m = 72\n",
    "r2 = 0.045/12\n",
    "fee = 4500\n",
    "\n",
    "monthly_pmt = npf.pmt(rate=r, nper=n, pv=loan) * -1\n",
    "print(\"monthly_pmt\", monthly_pmt)\n",
    "owes= npf.pv(nper=n-m, rate=r, pmt=monthly_pmt) * -1\n",
    "print(\"rest with 8%: \", owes)\n",
    "repay1 =  monthly_pmt * n\n",
    "print(\"total pmt: \", repay1)\n",
    "\n",
    "monthly_pmt_2 = npf.pmt(rate=r2, nper=n-m, pv=owes) * -1\n",
    "print(\"pmt:\", monthly_pmt_2)\n",
    "repay2 = (monthly_pmt * m) + (monthly_pmt_2 * (n-m)) + 4500\n",
    "print(\"total pmt: \", repay2)"
   ]
  },
  {
   "cell_type": "code",
   "execution_count": 156,
   "metadata": {},
   "outputs": [
    {
     "data": {
      "text/plain": [
       "94553.2117303306"
      ]
     },
     "execution_count": 156,
     "metadata": {},
     "output_type": "execute_result"
    }
   ],
   "source": [
    "repay1 - repay2"
   ]
  },
  {
   "cell_type": "code",
   "execution_count": 157,
   "metadata": {},
   "outputs": [
    {
     "name": "stdout",
     "output_type": "stream",
     "text": [
      "16200\n",
      "16335.992333751788\n",
      "16435.508119632632\n"
     ]
    }
   ],
   "source": [
    "# You are interested in a new Ford Taurus. After visiting your Ford dealer,\n",
    "# doing your research on the best leases available, you have three options. \n",
    "# \n",
    "# (i) Purchase the car for cash and receive a $1,600 cash rebate from Dealer \n",
    "# A. The price of the car is $16,000.\n",
    "#  \n",
    "# (ii) Lease the car from Dealer B. Under this option, you pay the dealer \n",
    "# $450 now and $200 a month for each of the next 36 months (the first $200 \n",
    "# payment occurs 1 month from today). After 36 months you may buy the car for $8,900. \n",
    "# \n",
    "# (iii) Purchase the car from Dealer C who will lend you the entire purchase price \n",
    "# of the car for a zero interest 36-month loan with monthly payments. \n",
    "# The car price is $16,000. Suppose the market interest rate is 5%.\n",
    "# What is the net cost today of the cheapest option?\n",
    "print(18000 - 1800)\n",
    "\n",
    "print(500 + npf.pv(rate=0.06/12, nper=36, fv=0,pmt=225 ) * -1  + npf.pv(rate=0.06/12, nper=36, fv=10100, pmt=0)* -1)\n",
    "\n",
    "print(npf.pv(rate=0.06/12, nper=36, fv=0,pmt=18000/36) * -1)\n",
    "\n",
    "# anzahlung_o2 = 450\n",
    "# pmt_o2 = 200\n",
    "# n_o2 = 36\n",
    "# rest_o2 = 8900\n",
    "# print(36 * 200 + 450 + 8900)\n",
    "\n",
    "# print(160000 / 36)\n",
    "\n",
    "# r = 0.05\n"
   ]
  },
  {
   "cell_type": "code",
   "execution_count": 18,
   "metadata": {},
   "outputs": [
    {
     "name": "stdout",
     "output_type": "stream",
     "text": [
      "Konto: 17000\n",
      "Bauspar: 20476.237070485502\n",
      "ETF: 66366.0708856314\n"
     ]
    }
   ],
   "source": [
    "Startkapital = 5000\n",
    "Jahre = 10\n",
    "Zins = 0.21\n",
    "print(\"Konto:\", Startkapital + 100*12 * Jahre)\n",
    "print(\"Bauspar:\", npf.fv(0.03,nper=Jahre,pv=-Startkapital,pmt=-100*12)) # max 1200, Prämie bezieht sich auf den eingezahlten Betrag\n",
    "print(\"ETF:\", npf.fv(Zins,nper=Jahre,pv=-Startkapital,pmt=-100*12))"
   ]
  },
  {
   "attachments": {
    "image.png": {
     "image/png": "[encoded data removed]"
    }
   },
   "cell_type": "markdown",
   "metadata": {},
   "source": [
    "![image.png](attachment:image.png)"
   ]
  },
  {
   "attachments": {
    "image.png": {
     "image/png": "[encoded data removed]"
    }
   },
   "cell_type": "markdown",
   "metadata": {},
   "source": [
    "![image.png](attachment:image.png)"
   ]
  },
  {
   "cell_type": "code",
   "execution_count": null,
   "metadata": {},
   "outputs": [],
   "source": []
  }
 ],
 "metadata": {
  "interpreter": {
   "hash": "c49203761e2c45c3cb6e8e8358e09b0f3dc22c6ff18ba224cbeff6883e58c785"
  },
  "kernelspec": {
   "display_name": "Python 3",
   "language": "python",
   "name": "python3"
  },
  "language_info": {
   "codemirror_mode": {
    "name": "ipython",
    "version": 3
   },
   "file_extension": ".py",
   "mimetype": "text/x-python",
   "name": "python",
   "nbconvert_exporter": "python",
   "pygments_lexer": "ipython3",
   "version": "3.8.5"
  }
 },
 "nbformat": 4,
 "nbformat_minor": 4
}
