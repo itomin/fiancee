{
 "cells": [
  {
   "cell_type": "code",
   "execution_count": null,
   "metadata": {},
   "outputs": [],
   "source": [
    "import numpy_financial as npf\n",
    "import numpy as np\n",
    "import pandas as pd "
   ]
  },
  {
   "cell_type": "code",
   "execution_count": null,
   "metadata": {},
   "outputs": [],
   "source": [
    "npf.fv(nper=2, rate=0.01, pv=100)"
   ]
  },
  {
   "cell_type": "code",
   "execution_count": 3,
   "metadata": {},
   "outputs": [
    {
     "data": {
      "text/plain": [
       "2625491.9787471537"
      ]
     },
     "execution_count": 3,
     "metadata": {},
     "output_type": "execute_result"
    }
   ],
   "source": [
    "# FinWirt: Beispiel 4.11\n",
    "\n",
    "# Barwert der geometrisch wachsenden Annuität\n",
    "# Da die Einzahlung am Ende des Jahres erfolgt, muss 0 davor eingefügt werden, \n",
    "# damit auch die erste Zahlung am Ende des ersten Jahres diskontiert wird\n",
    "pv = npf.npv(rate=0.1, values=[0] + [-10000 * 1.05**i for i in range(30)])\n",
    "# Jetzt muss der barwert der geometrischen Reihe in die Zukunft forgeschrieben werden\n",
    "npf.fv(rate=0.1, nper=30, pmt=0, pv=pv)  "
   ]
  },
  {
   "cell_type": "code",
   "execution_count": 8,
   "metadata": {},
   "outputs": [
    {
     "data": {
      "text/plain": [
       "21290.158891412633"
      ]
     },
     "execution_count": 8,
     "metadata": {},
     "output_type": "execute_result"
    }
   ],
   "source": [
    "# FinWirt: Beispiel 4.14\n",
    "npf.pv(rate=0.005, pmt = -500, nper=48)"
   ]
  },
  {
   "cell_type": "code",
   "execution_count": 13,
   "metadata": {},
   "outputs": [
    {
     "data": {
      "text/plain": [
       "-1764.7560995017175"
      ]
     },
     "execution_count": 13,
     "metadata": {},
     "output_type": "execute_result"
    }
   ],
   "source": [
    "# FinWirt: Beispiel 4.15\n",
    "0.8 * 500000\n",
    "npf.pmt(nper=48, rate=0.005, pv=400000)\n",
    "npf.pmt(nper=18, rate=0.07, fv=60000, pv=0)"
   ]
  },
  {
   "cell_type": "code",
   "execution_count": 14,
   "metadata": {},
   "outputs": [
    {
     "data": {
      "text/plain": [
       "0.14"
      ]
     },
     "execution_count": 14,
     "metadata": {},
     "output_type": "execute_result"
    }
   ],
   "source": [
    "# FinWirt: Beispiel 4.16\n",
    "P = 1000000\n",
    "C = 100000\n",
    "g = 0.04\n",
    "(C +  P*g) / P \n",
    "\n"
   ]
  },
  {
   "cell_type": "code",
   "execution_count": 30,
   "metadata": {},
   "outputs": [
    {
     "data": {
      "text/plain": [
       "0.18450488503631904"
      ]
     },
     "execution_count": 30,
     "metadata": {},
     "output_type": "execute_result"
    }
   ],
   "source": [
    "# FinWirt: Beispiel Seite 158, Gablelstapler\n",
    "npf.rate(nper = 4, pv=40000,  pmt=-15000, fv=0)"
   ]
  },
  {
   "cell_type": "code",
   "execution_count": 31,
   "metadata": {},
   "outputs": [
    {
     "data": {
      "text/plain": [
       "0.12093041196303478"
      ]
     },
     "execution_count": 31,
     "metadata": {},
     "output_type": "execute_result"
    }
   ],
   "source": [
    "# FinWirt: Beispiel 4.17\n",
    "npf.rate(nper = 30, pv=1000000,  pmt=-125000, fv=0)"
   ]
  },
  {
   "cell_type": "code",
   "execution_count": 80,
   "metadata": {},
   "outputs": [
    {
     "name": "stdout",
     "output_type": "stream",
     "text": [
      "nper: 5 rate: 0.05\n",
      "-552.5631250000006\n",
      "nper: 10 rate: 0.05\n",
      "-1257.789253554884\n",
      "nper: 5 rate: 0.1\n",
      "-1221.020000000001\n",
      "nper: 10 rate: 0.1\n",
      "-3187.484920200005\n"
     ]
    }
   ],
   "source": [
    "for i in [(5,0.05),(10,0.05),(5,0.1),(10,0.1)]:\n",
    "    print(\"nper:\",i[0], \"rate:\", i[1])\n",
    "    print(2000 - npf.fv(nper=i[0], rate=i[1], pv=-2000, pmt=0))"
   ]
  },
  {
   "cell_type": "code",
   "execution_count": 92,
   "metadata": {},
   "outputs": [
    {
     "data": {
      "text/plain": [
       "135.43224903990176"
      ]
     },
     "execution_count": 92,
     "metadata": {},
     "output_type": "execute_result"
    }
   ],
   "source": [
    "-10000 + 500/1.02 + 1500/1.02**2 + 10000/1.02**10\n",
    "# a) -2609.35 , nein\n",
    "# b) 135.432, Ja\n"
   ]
  }
 ],
 "metadata": {
  "kernelspec": {
   "display_name": "fiancee-4Zif6Pyw",
   "language": "python",
   "name": "python3"
  },
  "language_info": {
   "codemirror_mode": {
    "name": "ipython",
    "version": 3
   },
   "file_extension": ".py",
   "mimetype": "text/x-python",
   "name": "python",
   "nbconvert_exporter": "python",
   "pygments_lexer": "ipython3",
   "version": "3.12.0"
  },
  "orig_nbformat": 4
 },
 "nbformat": 4,
 "nbformat_minor": 2
}
