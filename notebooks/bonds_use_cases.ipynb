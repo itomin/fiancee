{
 "cells": [
  {
   "cell_type": "code",
   "execution_count": 1,
   "metadata": {},
   "outputs": [],
   "source": [
    "from tvm import *  \n",
    "from bonds import *\n",
    "import  pytest\n",
    "import numpy_financial as npf\n",
    "from datetime import datetime"
   ]
  },
  {
   "cell_type": "markdown",
   "metadata": {},
   "source": [
    "# Zero Coupon Bonds"
   ]
  },
  {
   "cell_type": "code",
   "execution_count": 2,
   "metadata": {},
   "outputs": [
    {
     "name": "stdout",
     "output_type": "stream",
     "text": [
      "Price of zero coupon bond 980.3921568627451\n"
     ]
    }
   ],
   "source": [
    "# Price of a bond\n",
    "face = 1000\n",
    "r = 0.02\n",
    "n = 1\n",
    "print(\"Price of zero coupon bond\", face /(1+r)**n)\n",
    "assert round(bond_price(face,r,n)) == 980"
   ]
  },
  {
   "cell_type": "code",
   "execution_count": 3,
   "metadata": {},
   "outputs": [
    {
     "name": "stdout",
     "output_type": "stream",
     "text": [
      "YTM for zero-coupon bond: 0.030000541914832812\n",
      "YTM (rate of return) 0.030000541914803936\n"
     ]
    }
   ],
   "source": [
    "# Yield to maturity - the return build into the pricing of a bond\n",
    "# The yield to maturity is the estimated annual rate of return for a\n",
    "# bond assuming that the investor holds the asset until its maturity\n",
    "# date and reinvests the payments at the same rate.\n",
    "face = 1000\n",
    "n = 10\n",
    "price = 744.09\n",
    "print(\"YTM for zero-coupon bond:\", (face / price)**(1/n) - 1)\n",
    "print(\"YTM (rate of return)\", bond_ytm(price, face, 10, 0))\n"
   ]
  },
  {
   "cell_type": "code",
   "execution_count": 4,
   "metadata": {},
   "outputs": [
    {
     "data": {
      "text/plain": [
       "[0.343923450120281,\n",
       " 0.15927712395280236,\n",
       " 0.10354871823859413,\n",
       " 0.0766973223486731,\n",
       " 0.060901116344849404,\n",
       " 0.05049927093672668,\n",
       " 0.04313188102438281,\n",
       " 0.037640266348927476,\n",
       " 0.03338900604709605]"
      ]
     },
     "execution_count": 4,
     "metadata": {},
     "output_type": "execute_result"
    }
   ],
   "source": [
    "# Yield curve: relation between the maturity and the YTM of government bonds\n",
    "# The price of a 10 year bond fluctuates much more than the price of a 1 year bond.\n",
    "# And maybe they have to sell these bonds at some point. The interest rate built \n",
    "# into a 10 year bond has to compensate me for risk\n",
    "# x= years, y=ytm\n",
    "face = 1000\n",
    "n = 10\n",
    "price = 744.09\n",
    "(face / price)**(1/n) - 1\n",
    "[ (face / price)**(1/i) - 1 for i in range(1,n)]"
   ]
  },
  {
   "cell_type": "markdown",
   "metadata": {},
   "source": [
    "# Coupon Bonds"
   ]
  },
  {
   "cell_type": "code",
   "execution_count": 5,
   "metadata": {},
   "outputs": [
    {
     "data": {
      "text/plain": [
       "1163.5143334459713"
      ]
     },
     "execution_count": 5,
     "metadata": {},
     "output_type": "execute_result"
    }
   ],
   "source": [
    "# and 10 years to maturity. What is the price of this bond given\n",
    "# that similar bonds yield and annual return of 6%? \n",
    "# What if the similar bonds yield 4%? And what if they yield 8%\n",
    "r = 0.04\n",
    "face = 1000\n",
    "n = 10\n",
    "coupon = r * face\n",
    "npf.pv(rate=r/2,nper=n*2,pmt=30, fv=1000)*-1\n",
    "\n",
    "# NOTE: Issues bond for a period of n and an interest rate (rel. coupon) of r\n",
    "# dont change. Therefore if r increases, it is more attractive to buy new\n",
    "# bonds on the market with higher coupon, therefore to compensate it\n",
    "# the price of a coupon goes down\n",
    "# Vice verse if r decreases, than the price go up, since the older\n",
    "# bond is more attractive on the market "
   ]
  },
  {
   "cell_type": "code",
   "execution_count": 6,
   "metadata": {},
   "outputs": [
    {
     "name": "stdout",
     "output_type": "stream",
     "text": [
      "1239.2028291709778\n"
     ]
    }
   ],
   "source": [
    "bond_return = npf.pv(rate=0.06, nper=10, pmt=92.5, fv=1000) * -1\n",
    "print(bond_return)"
   ]
  },
  {
   "cell_type": "code",
   "execution_count": 2,
   "metadata": {},
   "outputs": [
    {
     "data": {
      "text/plain": [
       "0.09408633953271231"
      ]
     },
     "execution_count": 2,
     "metadata": {},
     "output_type": "execute_result"
    }
   ],
   "source": [
    "# EXPECTED = 0.09408\n",
    "bond_ytm(par=1000,par_rate=0.99, coupon_rate=0.0925, nper=10)"
   ]
  },
  {
   "cell_type": "code",
   "execution_count": 3,
   "metadata": {},
   "outputs": [
    {
     "data": {
      "text/plain": [
       "0.034684024239174306"
      ]
     },
     "execution_count": 3,
     "metadata": {},
     "output_type": "execute_result"
    }
   ],
   "source": [
    "# EXPECTED = 0.0346\n",
    "bond_ytm(par=1000,par_rate=1.0864, coupon_rate=.075, nper=3, buy_date = datetime(2002, 8, 5), next_yield_date = datetime(2002, 11, 11))"
   ]
  },
  {
   "cell_type": "code",
   "execution_count": 4,
   "metadata": {},
   "outputs": [
    {
     "data": {
      "text/plain": [
       "0.056694664039358564"
      ]
     },
     "execution_count": 4,
     "metadata": {},
     "output_type": "execute_result"
    }
   ],
   "source": [
    "par=1000\n",
    "par_rate=1.02\n",
    "coupon_rate=.06\n",
    "nper=8\n",
    "buy_date = datetime(2002, 7, 1)\n",
    "next_yield_date = datetime(2003, 4, 1)\n",
    "\n",
    "bond_ytm(par=par,par_rate=par_rate, coupon_rate=coupon_rate, nper=nper, buy_date = buy_date, next_yield_date = next_yield_date)"
   ]
  },
  {
   "cell_type": "code",
   "execution_count": 53,
   "metadata": {},
   "outputs": [
    {
     "name": "stdout",
     "output_type": "stream",
     "text": [
      "coupon 41.25\n",
      "value 1042.3\n",
      "156.48009916166367\n"
     ]
    },
    {
     "data": {
      "text/plain": [
       "datetime.datetime(2003, 2, 22, 11, 31, 20, 567568)"
      ]
     },
     "execution_count": 53,
     "metadata": {},
     "output_type": "execute_result"
    }
   ],
   "source": [
    "from datetime import timedelta\n",
    "\n",
    "par = 1000\n",
    "par_rate = 1.0423\n",
    "coupon_rate = 0.04125\n",
    "coupon = coupon_rate * par\n",
    "value = par_rate * par\n",
    "i = 0.0112\n",
    "nper = 2\n",
    "\n",
    "print(\"coupon\", coupon)\n",
    "print(\"value\", value) \n",
    "\n",
    "FUN = lambda t: coupon/(1+i)**(nper - (365-t)/365) * \\\n",
    "                ((1+i)**nper - 1)/i  +  \\\n",
    "                par/(1+i)**(nper-(365-t)/365) - value - (coupon * ((365 - t)/365) )\n",
    "\n",
    "\n",
    "r = optimize.newton(FUN, 0.1)\n",
    "print(r)\n",
    "datetime(2002, 9, 19) + timedelta(days=r) "
   ]
  }
 ],
 "metadata": {
  "interpreter": {
   "hash": "c49203761e2c45c3cb6e8e8358e09b0f3dc22c6ff18ba224cbeff6883e58c785"
  },
  "kernelspec": {
   "display_name": "Python 3.8.5 64-bit ('base': conda)",
   "name": "python3"
  },
  "language_info": {
   "codemirror_mode": {
    "name": "ipython",
    "version": 3
   },
   "file_extension": ".py",
   "mimetype": "text/x-python",
   "name": "python",
   "nbconvert_exporter": "python",
   "pygments_lexer": "ipython3",
   "version": "3.8.5"
  },
  "orig_nbformat": 4
 },
 "nbformat": 4,
 "nbformat_minor": 2
}
