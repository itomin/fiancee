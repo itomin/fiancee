{
 "cells": [
  {
   "cell_type": "markdown",
   "metadata": {},
   "source": [
    "### Stock\n",
    "How are you getting paid back?\n",
    "- Dividends \n",
    "- Selling Stock results in **capital gain/loss**\n",
    "\n",
    "\n",
    "In its simplest form, your balance sheet can be divided into two categories: **assets** and **liabilities**. **Assets** are the items your company **owns** that can provide future economic benefit. **Liabilities** are what you **owe** other parties. **Equity** is the net worth of your business.  \n",
    "Assets = Liabilities + Equity\n",
    "\n",
    "- **ICPS**: Invested capital per share\n",
    "- **ROI**: Return of investment\n",
    "- **EPS**: Earnings per share, its the cashflow per share \n",
    "- $ISPS * ROI = EPS$\n",
    "\n",
    "Real Assets generate cash flow. Cashflow per share can either be paid our (dividends) or retained (Retained Earnings). Retained Earning can be invested and means **growth**\n",
    "\n",
    "\n",
    "Return of capital (**ROC**) = refers to principal payments back to \"capital owners\" (shareholders, partners, unitholders) \n",
    "that exceed the growth (net income/taxable income) of a business or investment."
   ]
  },
  {
   "cell_type": "markdown",
   "metadata": {},
   "source": [
    "#### Determine the price of the stock\n",
    "\n",
    "**No growth**  \n",
    "\n",
    "$P_0 = \\frac{DIV}{r}$   \n",
    "\n",
    "- $P_0$: Stock price  \n",
    "- $DIV$: Dividends   \n",
    "- $r$: discount rate or cost of capital. Where does it come from? It represents the market growth\n",
    "\n",
    "**Growth g**\n",
    "\n",
    "$P_0 = \\frac{DIV}{r-g}$  \n",
    "\n",
    "Given an $ROI$ and percentage of capital the company withholds $b$ the growth is\n",
    "\n",
    "$g = ROI * b$\n",
    "\n",
    "\n",
    "$P_0 = \\frac{DIV_1 + P_1 }{1+r}$"
   ]
  },
  {
   "cell_type": "code",
   "execution_count": 9,
   "metadata": {},
   "outputs": [],
   "source": [
    "import numpy_financial as npf \n",
    "# https://rpubs.com/bacti/674274"
   ]
  },
  {
   "cell_type": "code",
   "execution_count": 11,
   "metadata": {},
   "outputs": [
    {
     "data": {
      "text/plain": [
       "30.599999999999998"
      ]
     },
     "execution_count": 11,
     "metadata": {},
     "output_type": "execute_result"
    }
   ],
   "source": [
    "#The stock of Alydar Oil, an all-equity firm, is currently trading at $46 per share,\n",
    "# after just having paid a $2.50 per share dividend. The market expects a dividend of $3.20\n",
    "#per share to be paid one year from today. If the equity cost of capital \n",
    "# (same as discount rate for equity) is 9% for this firm, the expected ex-dividend price\n",
    "46 * (1+0.09) - 3.2\n",
    "30 * (1.13) - 3.3"
   ]
  },
  {
   "cell_type": "code",
   "execution_count": 5,
   "metadata": {},
   "outputs": [
    {
     "data": {
      "text/plain": [
       "57.629999999999995"
      ]
     },
     "execution_count": 5,
     "metadata": {},
     "output_type": "execute_result"
    }
   ],
   "source": [
    "# Julia's Jewel Company (JJC) currently has a stock price of $51 per share. \n",
    "# If JJC's cost of equity capital (same as discount rate for equity) is 19% \n",
    "# and the current dividend yield (DIV1/P0) is 6.00%, the expected price per\n",
    "# share of the company in one year (t = 1) is closest to?\n",
    "51 * (1+0.19) - (51 * 0.06)"
   ]
  },
  {
   "cell_type": "code",
   "execution_count": 14,
   "metadata": {},
   "outputs": [
    {
     "data": {
      "text/plain": [
       "-62.89924450121551"
      ]
     },
     "execution_count": 14,
     "metadata": {},
     "output_type": "execute_result"
    }
   ],
   "source": [
    "price = 2*(1.05) / (0.075 - 0.05)\n",
    "npf.pv(fv=price, rate=0.075,pmt=0,nper=4)"
   ]
  },
  {
   "cell_type": "code",
   "execution_count": 10,
   "metadata": {},
   "outputs": [
    {
     "data": {
      "text/plain": [
       "-111.93034598384394"
      ]
     },
     "execution_count": 10,
     "metadata": {},
     "output_type": "execute_result"
    }
   ],
   "source": [
    "npf.pv(fv=3*(1.0575) / (0.08 - 0.0575), rate=0.08,pmt=0,nper=3)"
   ]
  },
  {
   "cell_type": "code",
   "execution_count": 23,
   "metadata": {},
   "outputs": [
    {
     "name": "stdout",
     "output_type": "stream",
     "text": [
      "roi 0.18518518518518517\n"
     ]
    },
    {
     "data": {
      "text/plain": [
       "0.10052910052910051"
      ]
     },
     "execution_count": 23,
     "metadata": {},
     "output_type": "execute_result"
    }
   ],
   "source": [
    "price = 35000000 / 3000000\n",
    "re = 19000000 / 35000000\n",
    "roi = (10000000 ) / (35000000+19000000)\n",
    "print(\"roi\", roi)\n",
    "# price/(0.085)\n",
    "g = roi * re\n",
    "g"
   ]
  },
  {
   "cell_type": "code",
   "execution_count": 9,
   "metadata": {},
   "outputs": [
    {
     "data": {
      "text/plain": [
       "102.48618784530387"
      ]
     },
     "execution_count": 9,
     "metadata": {},
     "output_type": "execute_result"
    }
   ],
   "source": [
    "# HigherEducation, Inc., a private educational company's share price is $80 per share;\n",
    "# earnings and dividends are $5.30 a share, and the growth rate is zero.\n",
    "# They have just announced a new growth strategy whereby the company's earnings \n",
    "# would begin growing by 3% per year and remain stable at this new rate. \n",
    "# This new growth strategy will require the company to reinvest 30% \n",
    "(5.3 - (5.3 * .3)) / (0.0662-0.03)"
   ]
  },
  {
   "cell_type": "code",
   "execution_count": 7,
   "metadata": {},
   "outputs": [
    {
     "name": "stdout",
     "output_type": "stream",
     "text": [
      "110.30555555555554 143.17857142857142 -32.87301587301587\n"
     ]
    }
   ],
   "source": [
    "# You are deciding whether to add Bard Publishing to your portfolio,\n",
    "#but you are concerned about your projection for their growth rate. \n",
    "#Bard's cost of equity capital (the discount rate for equity)\n",
    "# is known to be 9% and they just paid a dividend of $4.75 per share.\n",
    "# When calculating the value of the stock today, you cannot decide if\n",
    "# the constant growth rate will be 4.5% or 5.5%. \n",
    "# By how much does this seemingly small difference impact your valuation, i.e., the price per share?\n",
    "a = 4.75*(1.045) / (0.09 - 0.045)\n",
    "b = 4.75*(1.055) / (0.09 - 0.055)\n",
    "print(a,b, a-b)"
   ]
  },
  {
   "cell_type": "code",
   "execution_count": 12,
   "metadata": {},
   "outputs": [
    {
     "name": "stdout",
     "output_type": "stream",
     "text": [
      "104.49999999999999 147.7 -43.2\n"
     ]
    }
   ],
   "source": [
    "a = 3.5*(1.045) / (0.08 - 0.045)\n",
    "b = 3.5*(1.055) / (0.08 - 0.055)\n",
    "print(a,b, a-b)"
   ]
  }
 ],
 "metadata": {
  "kernelspec": {
   "display_name": "Python 3",
   "language": "python",
   "name": "python3"
  },
  "language_info": {
   "codemirror_mode": {
    "name": "ipython",
    "version": 3
   },
   "file_extension": ".py",
   "mimetype": "text/x-python",
   "name": "python",
   "nbconvert_exporter": "python",
   "pygments_lexer": "ipython3",
   "version": "3.8.5"
  }
 },
 "nbformat": 4,
 "nbformat_minor": 4
}
